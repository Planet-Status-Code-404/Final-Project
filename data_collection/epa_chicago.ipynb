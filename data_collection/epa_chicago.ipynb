{
 "cells": [
  {
   "cell_type": "code",
   "execution_count": 7,
   "metadata": {},
   "outputs": [
    {
     "name": "stdout",
     "output_type": "stream",
     "text": [
      "Success: 16, Failures: 4\n"
     ]
    },
    {
     "ename": "AttributeError",
     "evalue": "module 'pandas' has no attribute 'head'",
     "output_type": "error",
     "traceback": [
      "\u001b[0;31m---------------------------------------------------------------------------\u001b[0m",
      "\u001b[0;31mAttributeError\u001b[0m                            Traceback (most recent call last)",
      "Cell \u001b[0;32mIn[7], line 60\u001b[0m\n\u001b[1;32m     57\u001b[0m \u001b[38;5;28mprint\u001b[39m (\u001b[38;5;124mf\u001b[39m\u001b[38;5;124m\"\u001b[39m\u001b[38;5;124mSuccess: \u001b[39m\u001b[38;5;132;01m{\u001b[39;00msuccess_count\u001b[38;5;132;01m}\u001b[39;00m\u001b[38;5;124m, Failures: \u001b[39m\u001b[38;5;132;01m{\u001b[39;00mfail_count\u001b[38;5;132;01m}\u001b[39;00m\u001b[38;5;124m\"\u001b[39m)\n\u001b[1;32m     58\u001b[0m all_data[[\u001b[38;5;124m\"\u001b[39m\u001b[38;5;124mmain.NUM_HOSPITAL\u001b[39m\u001b[38;5;124m\"\u001b[39m,\u001b[38;5;124m\"\u001b[39m\u001b[38;5;124mdemographics.P_NHBLACK\u001b[39m\u001b[38;5;124m\"\u001b[39m,\u001b[38;5;124m\"\u001b[39m\u001b[38;5;124mdemographics.TOTALPOP\u001b[39m\u001b[38;5;124m\"\u001b[39m, \u001b[38;5;124m\"\u001b[39m\u001b[38;5;124mmain.NUM_TRI\u001b[39m\u001b[38;5;124m\"\u001b[39m]]\n\u001b[0;32m---> 60\u001b[0m \u001b[43mpd\u001b[49m\u001b[38;5;241;43m.\u001b[39;49m\u001b[43mhead\u001b[49m(all_data)\n",
      "File \u001b[0;32m/usr/local/lib/python3.8/dist-packages/pandas/__init__.py:264\u001b[0m, in \u001b[0;36m__getattr__\u001b[0;34m(name)\u001b[0m\n\u001b[1;32m    260\u001b[0m     \u001b[38;5;28;01mfrom\u001b[39;00m \u001b[38;5;21;01mpandas\u001b[39;00m\u001b[38;5;21;01m.\u001b[39;00m\u001b[38;5;21;01mcore\u001b[39;00m\u001b[38;5;21;01m.\u001b[39;00m\u001b[38;5;21;01marrays\u001b[39;00m\u001b[38;5;21;01m.\u001b[39;00m\u001b[38;5;21;01msparse\u001b[39;00m \u001b[38;5;28;01mimport\u001b[39;00m SparseArray \u001b[38;5;28;01mas\u001b[39;00m _SparseArray\n\u001b[1;32m    262\u001b[0m     \u001b[38;5;28;01mreturn\u001b[39;00m _SparseArray\n\u001b[0;32m--> 264\u001b[0m \u001b[38;5;28;01mraise\u001b[39;00m \u001b[38;5;167;01mAttributeError\u001b[39;00m(\u001b[38;5;124mf\u001b[39m\u001b[38;5;124m\"\u001b[39m\u001b[38;5;124mmodule \u001b[39m\u001b[38;5;124m'\u001b[39m\u001b[38;5;124mpandas\u001b[39m\u001b[38;5;124m'\u001b[39m\u001b[38;5;124m has no attribute \u001b[39m\u001b[38;5;124m'\u001b[39m\u001b[38;5;132;01m{\u001b[39;00mname\u001b[38;5;132;01m}\u001b[39;00m\u001b[38;5;124m'\u001b[39m\u001b[38;5;124m\"\u001b[39m)\n",
      "\u001b[0;31mAttributeError\u001b[0m: module 'pandas' has no attribute 'head'"
     ]
    }
   ],
   "source": [
    "#Gathering Data\n",
    "\n",
    "import requests\n",
    "import pandas as pd\n",
    "\n",
    "#chrome-extension://efaidnbmnnnibpcajpcglclefindmkaj/https://ejscreen.epa.gov/mapper/EJAPIinstructions.pdf\n",
    "#https://ejscreen.epa.gov/mapper/ejsoefielddesc1.html\n",
    "#https://www.epa.gov/ejscreen/ejscreen-api\n",
    "\n",
    "# Load the CSV file\n",
    "file_path = 'Chicago_Tract_ID.csv'\n",
    "chicago_tracts_df = pd.read_csv(file_path)\n",
    "\n",
    "def process_tract_id(tract_id):\n",
    "    # Remove the dot and convert to an integer\n",
    "    processed_id = int(tract_id * 100)\n",
    "    # Convert to string\n",
    "    processed_str = str(processed_id)\n",
    "    # Pad with zeros on the right to ensure it's 6 digits long\n",
    "    processed_str = processed_str.ljust(6, '0')\n",
    "    return processed_str\n",
    "\n",
    "base_fips = \"17031\"\n",
    "\n",
    "# Apply the processing function to the DataFrame\n",
    "chicago_tracts_df['Processed'] = chicago_tracts_df.iloc[:, 0].apply(process_tract_id)\n",
    "chicago_tracts_df['FIPS'] = base_fips + chicago_tracts_df['Processed']\n",
    "\n",
    "# Convert the list of FIPS codes to a set for efficiency\n",
    "fips_codes = set(chicago_tracts_df['FIPS'])\n",
    "\n",
    "# DataFrame to store all results\n",
    "all_data = pd.DataFrame()\n",
    "\n",
    "# Initialize counters for tracking API calls\n",
    "success_count = 0\n",
    "fail_count = 0\n",
    "\n",
    "# Limit the loop to 100 API calls\n",
    "for i, fips_code in enumerate(fips_codes):\n",
    "    if i >= 20:\n",
    "        break  # Exit the loop after n iterations\n",
    "\n",
    "    # Modify the areatype to \"tract\"\n",
    "    url = f\"https://ejscreen.epa.gov/mapper/ejscreenRESTbroker1.aspx?namestr={fips_code}&geometry=&distance=&unit=9035&areatype=tract&areaid={fips_code}&f=json\"\n",
    "    response = requests.get(url)\n",
    "    \n",
    "    data = response.json()\n",
    "    if 'data' in data:\n",
    "        df = pd.json_normalize(data['data'])\n",
    "        all_data = pd.concat([all_data, df], ignore_index=True)\n",
    "        success_count += 1\n",
    "    else:\n",
    "        fail_count += 1\n",
    "\n",
    "# Display the counts and the first few rows of the combined data\n",
    "print (f\"Success: {success_count}, Failures: {fail_count}\")\n",
    "all_data[[\"main.NUM_HOSPITAL\",\"demographics.P_NHBLACK\",\"demographics.TOTALPOP\", \"main.NUM_TRI\"]]\n",
    "\n",
    "pd.head(all_data)"
   ]
  },
  {
   "cell_type": "code",
   "execution_count": 5,
   "metadata": {},
   "outputs": [
    {
     "ename": "NameError",
     "evalue": "name 'all_data' is not defined",
     "output_type": "error",
     "traceback": [
      "\u001b[0;31m---------------------------------------------------------------------------\u001b[0m",
      "\u001b[0;31mNameError\u001b[0m                                 Traceback (most recent call last)",
      "Cell \u001b[0;32mIn[5], line 3\u001b[0m\n\u001b[1;32m      1\u001b[0m \u001b[38;5;66;03m#Exploring Data\u001b[39;00m\n\u001b[0;32m----> 3\u001b[0m \u001b[43mall_data\u001b[49m\u001b[38;5;241m.\u001b[39mhead(\u001b[38;5;241m50\u001b[39m)\n\u001b[1;32m      4\u001b[0m all_data\u001b[38;5;241m.\u001b[39mdescribe()\n\u001b[1;32m      5\u001b[0m df\u001b[38;5;241m.\u001b[39mcolumns\n",
      "\u001b[0;31mNameError\u001b[0m: name 'all_data' is not defined"
     ]
    }
   ],
   "source": [
    "#Exploring Data\n",
    "\n",
    "all_data.head(50)\n",
    "all_data.describe()\n",
    "all_data.shape\n"
   ]
  },
  {
   "cell_type": "code",
   "execution_count": 4,
   "metadata": {},
   "outputs": [
    {
     "ename": "NameError",
     "evalue": "name 'all_data' is not defined",
     "output_type": "error",
     "traceback": [
      "\u001b[0;31m---------------------------------------------------------------------------\u001b[0m",
      "\u001b[0;31mNameError\u001b[0m                                 Traceback (most recent call last)",
      "Cell \u001b[0;32mIn[4], line 10\u001b[0m\n\u001b[1;32m      6\u001b[0m \u001b[38;5;28;01mimport\u001b[39;00m \u001b[38;5;21;01mpandas\u001b[39;00m \u001b[38;5;28;01mas\u001b[39;00m \u001b[38;5;21;01mpd\u001b[39;00m\n\u001b[1;32m      8\u001b[0m \u001b[38;5;66;03m#Setting the theme\u001b[39;00m\n\u001b[1;32m      9\u001b[0m \u001b[38;5;66;03m# sns.set(style='darkgrid', palette='deep', font='sans-serif', font_scale=1, color_codes=True, rc=None)\u001b[39;00m\n\u001b[0;32m---> 10\u001b[0m pd\u001b[38;5;241m.\u001b[39mto_numeric(\u001b[43mall_data\u001b[49m[[\u001b[38;5;124m\"\u001b[39m\u001b[38;5;124mdemographics.P_NHBLACK\u001b[39m\u001b[38;5;124m\"\u001b[39m, \u001b[38;5;124m\"\u001b[39m\u001b[38;5;124mmain.NUM_AIRPOLL\u001b[39m\u001b[38;5;124m\"\u001b[39m, \u001b[38;5;124m\"\u001b[39m\u001b[38;5;124mmain.NUM_TRI\u001b[39m\u001b[38;5;124m\"\u001b[39m]])\n\u001b[1;32m     12\u001b[0m \u001b[38;5;66;03m# sns.scatterplot(x=\"demographics.P_NHBLACK\", y=\"extras.RAW_CI_FLOOD\", data= all_data)\u001b[39;00m\n\u001b[1;32m     13\u001b[0m sns\u001b[38;5;241m.\u001b[39mpairplot(all_data, \u001b[38;5;28mvars\u001b[39m \u001b[38;5;241m=\u001b[39m[\u001b[38;5;124m\"\u001b[39m\u001b[38;5;124mdemographics.P_NHBLACK\u001b[39m\u001b[38;5;124m\"\u001b[39m, \u001b[38;5;124m\"\u001b[39m\u001b[38;5;124mmain.NUM_AIRPOLL\u001b[39m\u001b[38;5;124m\"\u001b[39m, \u001b[38;5;124m\"\u001b[39m\u001b[38;5;124mmain.NUM_TRI\u001b[39m\u001b[38;5;124m\"\u001b[39m],height\u001b[38;5;241m=\u001b[39m\u001b[38;5;241m3\u001b[39m)\n",
      "\u001b[0;31mNameError\u001b[0m: name 'all_data' is not defined"
     ]
    }
   ],
   "source": [
    "#Visualizing Data\n",
    "\n",
    "#If you don't already have seaborn\n",
    "# %pip install seaborn\n",
    "import seaborn as sns \n",
    "import pandas as pd\n",
    "\n",
    "#Setting the theme\n",
    "# sns.set(style='darkgrid', palette='deep', font='sans-serif', font_scale=1, color_codes=True, rc=None)\n",
    "\n",
    "#Convert to numeric\n",
    "all_data[[\"demographics.P_NHBLACK\", \"main.NUM_AIRPOLL\", \"main.NUM_TRI\"]] = all_data[[\"demographics.P_NHBLACK\", \"main.NUM_AIRPOLL\", \"main.NUM_TRI\"]].apply(pd.to_numeric)\n",
    "\n",
    "\n",
    "sns.pairplot(all_data, vars =[\"demographics.P_NHBLACK\", \"main.NUM_AIRPOLL\", \"main.NUM_TRI\"],height=3)\n",
    "# sns.scatterplot(x=\"demographics.P_NHBLACK\", y=\"extras.RAW_CI_FLOOD\", data= all_data)\n",
    "\n",
    "\n",
    "#Outliers problematic"
   ]
  }
 ],
 "metadata": {
  "kernelspec": {
   "display_name": "Python 3",
   "language": "python",
   "name": "python3"
  },
  "language_info": {
   "codemirror_mode": {
    "name": "ipython",
    "version": 3
   },
   "file_extension": ".py",
   "mimetype": "text/x-python",
   "name": "python",
   "nbconvert_exporter": "python",
   "pygments_lexer": "ipython3",
   "version": "3.8.10"
  }
 },
 "nbformat": 4,
 "nbformat_minor": 2
}
